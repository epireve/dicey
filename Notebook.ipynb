{
 "cells": [
  {
   "cell_type": "code",
   "execution_count": 12,
   "metadata": {},
   "outputs": [
    {
     "name": "stderr",
     "output_type": "stream",
     "text": [
      "--- request header ---\n",
      "GET /dice/prod/ws/?EIO=3&transport=websocket HTTP/1.1\n",
      "Upgrade: websocket\n",
      "Connection: Upgrade\n",
      "Host: betdice.one\n",
      "Origin: http://betdice.one\n",
      "Sec-WebSocket-Key: hnNq4PIvbzL06w6Hc4DXTw==\n",
      "Sec-WebSocket-Version: 13\n",
      "Cookie: __cfduid=d759527fc3739c0b9423840485de0f99b1542356749\n",
      "\n",
      "\n",
      "-----------------------\n",
      "--- response header ---\n",
      "HTTP/1.1 101 Switching Protocols\n",
      "Date: Fri, 16 Nov 2018 08:46:09 GMT\n",
      "Connection: upgrade\n",
      "Upgrade: websocket\n",
      "Sec-WebSocket-Accept: N7ccmdmFTcRzERZARsh0rQ3mZaE=\n",
      "Expect-CT: max-age=604800, report-uri=\"https://report-uri.cloudflare.com/cdn-cgi/beacon/expect-ct\"\n",
      "Server: cloudflare\n",
      "CF-RAY: 47a8af751992a887-CDG\n",
      "-----------------------\n",
      "error from callback <function on_message at 0x11dfa9bf8>: Extra data: line 1 column 2 (char 1)\n"
     ]
    },
    {
     "name": "stdout",
     "output_type": "stream",
     "text": [
      "0\n",
      "{\"type\": \"betReceipt\", \"payload\": {\"receipt\": {\"accountName\": \"heytsnzxhege\", \"betAsset\": \"0.8000 EOS\", \"now\": 1542357959, \"payoutAsset\": \"0.0000 EOS\", \"diceNumber\": 96, \"seed\": \"UnDUEzlim3Pgd6hFH8\", \"rollUnder\": 66}}}\n",
      "{\"type\": \"betReceipt\", \"payload\": {\"receipt\": {\"accountName\": \"haytsobzgege\", \"betAsset\": \"100.0000 EOS\", \"now\": 1542357960, \"payoutAsset\": \"218.8888 EOS\", \"diceNumber\": 22, \"seed\": \"ZGb6oAhOeMM5JP6Cm9\", \"rollUnder\": 46}}}\n",
      "{\"type\": \"betReceipt\", \"payload\": {\"receipt\": {\"accountName\": \"sukinneos123\", \"betAsset\": \"0.2000 EOS\", \"now\": 1542357959, \"payoutAsset\": \"0.2073 EOS\", \"diceNumber\": 48, \"seed\": \"ItZcJe0S36FBCjsRhF\", \"rollUnder\": 96}}}\n",
      "{\"type\": \"betReceipt\", \"payload\": {\"receipt\": {\"accountName\": \"zhanghangdev\", \"betAsset\": \"2402.4000 MEETONE\", \"now\": 1542357960, \"payoutAsset\": \"0.0000 MEETONE\", \"diceNumber\": 50, \"seed\": \"sRM4Uqu7aCIQ3hYmKmf8\", \"rollUnder\": 50}}}\n",
      "{\"type\": \"betReceipt\", \"payload\": {\"receipt\": {\"accountName\": \"zxc112233444\", \"betAsset\": \"4.0000 EOS\", \"now\": 1542357959, \"payoutAsset\": \"0.0000 EOS\", \"diceNumber\": 97, \"seed\": \"b5nks4pfuKM5VD50BH\", \"rollUnder\": 81}}}\n",
      "{\"type\": \"betReceipt\", \"payload\": {\"receipt\": {\"accountName\": \"wanghongwei5\", \"betAsset\": \"0.3000 EOS\", \"now\": 1542357961, \"payoutAsset\": \"0.0000 EOS\", \"diceNumber\": 55, \"seed\": \"5ZiHgTjcDcxoafXywt\", \"rollUnder\": 46}}}\n",
      "{\"type\": \"betReceipt\", \"payload\": {\"receipt\": {\"accountName\": \"eosxing1xing\", \"betAsset\": \"12.8000 EOS\", \"now\": 1542357961, \"payoutAsset\": \"25.7306 EOS\", \"diceNumber\": 3, \"seed\": \"oWOnEL1DYzwRWeWKbM\", \"rollUnder\": 50}}}\n"
     ]
    },
    {
     "name": "stderr",
     "output_type": "stream",
     "text": [
      "Unhandled exception in thread started by <function on_open.<locals>.run at 0x11df93b70>\n",
      "  File \"/anaconda3/lib/python3.6/site-packages/websocket/_app.py\", line 345, in _callback\n",
      "    callback(self, *args)\n",
      "  File \"<ipython-input-12-7abfb35e4037>\", line 14, in on_message\n",
      "    iteration = json.loads(striped)\n",
      "  File \"/anaconda3/lib/python3.6/json/__init__.py\", line 354, in loads\n",
      "    return _default_decoder.decode(s)\n",
      "  File \"/anaconda3/lib/python3.6/json/decoder.py\", line 342, in decode\n",
      "    raise JSONDecodeError(\"Extra data\", s, end)\n"
     ]
    },
    {
     "ename": "TypeError",
     "evalue": "sleep() takes exactly one argument (0 given)",
     "output_type": "error",
     "traceback": [
      "\u001b[0;31m---------------------------------------------------------------------------\u001b[0m",
      "\u001b[0;31mTypeError\u001b[0m                                 Traceback (most recent call last)",
      "\u001b[0;32m<ipython-input-12-7abfb35e4037>\u001b[0m in \u001b[0;36mrun\u001b[0;34m(*args)\u001b[0m\n\u001b[1;32m     27\u001b[0m     \u001b[0;32mdef\u001b[0m \u001b[0mrun\u001b[0m\u001b[0;34m(\u001b[0m\u001b[0;34m*\u001b[0m\u001b[0margs\u001b[0m\u001b[0;34m)\u001b[0m\u001b[0;34m:\u001b[0m\u001b[0;34m\u001b[0m\u001b[0m\n\u001b[1;32m     28\u001b[0m         \u001b[0;32mfor\u001b[0m \u001b[0mi\u001b[0m \u001b[0;32min\u001b[0m \u001b[0mrange\u001b[0m\u001b[0;34m(\u001b[0m\u001b[0;36m10\u001b[0m\u001b[0;34m)\u001b[0m\u001b[0;34m:\u001b[0m\u001b[0;34m\u001b[0m\u001b[0m\n\u001b[0;32m---> 29\u001b[0;31m             \u001b[0mtime\u001b[0m\u001b[0;34m.\u001b[0m\u001b[0msleep\u001b[0m\u001b[0;34m(\u001b[0m\u001b[0;34m)\u001b[0m\u001b[0;34m\u001b[0m\u001b[0m\n\u001b[0m\u001b[1;32m     30\u001b[0m             \u001b[0mws\u001b[0m\u001b[0;34m.\u001b[0m\u001b[0msend\u001b[0m\u001b[0;34m(\u001b[0m\u001b[0;34m\"Hello %d\"\u001b[0m \u001b[0;34m%\u001b[0m \u001b[0mi\u001b[0m\u001b[0;34m)\u001b[0m\u001b[0;34m\u001b[0m\u001b[0m\n\u001b[1;32m     31\u001b[0m         \u001b[0mtime\u001b[0m\u001b[0;34m.\u001b[0m\u001b[0msleep\u001b[0m\u001b[0;34m(\u001b[0m\u001b[0;34m)\u001b[0m\u001b[0;34m\u001b[0m\u001b[0m\n",
      "\u001b[0;31mTypeError\u001b[0m: sleep() takes exactly one argument (0 given)"
     ]
    },
    {
     "name": "stdout",
     "output_type": "stream",
     "text": [
      "{\"type\": \"betReceipt\", \"payload\": {\"receipt\": {\"accountName\": \"bettobigmoon\", \"betAsset\": \"1.0000 TPT\", \"now\": 1542357961, \"payoutAsset\": \"2.0102 TPT\", \"diceNumber\": 25, \"seed\": \"LqK4dQ4vZQ0Ps7OaL7\", \"rollUnder\": 50}}}\n",
      "{\"type\": \"betReceipt\", \"payload\": {\"receipt\": {\"accountName\": \"byunghyunbbh\", \"betAsset\": \"8.0000 EOS\", \"now\": 1542357962, \"payoutAsset\": \"9.6097 EOS\", \"diceNumber\": 3, \"seed\": \"W2iBe8llTb1KETDi9s\", \"rollUnder\": 83}}}\n",
      "{\"type\": \"betReceipt\", \"payload\": {\"receipt\": {\"accountName\": \"purung212123\", \"betAsset\": \"0.5000 EOS\", \"now\": 1542357961, \"payoutAsset\": \"0.0000 EOS\", \"diceNumber\": 54, \"seed\": \"Xv9YjANjIheYKQnq86\", \"rollUnder\": 51}}}\n",
      "{\"type\": \"betReceipt\", \"payload\": {\"receipt\": {\"accountName\": \"eosupupgogog\", \"betAsset\": \"32.0000 EOS\", \"now\": 1542357962, \"payoutAsset\": \"0.0000 EOS\", \"diceNumber\": 92, \"seed\": \"TcRrE2DiinI269OZ4U\", \"rollUnder\": 74}}}\n",
      "{\"type\": \"betReceipt\", \"payload\": {\"receipt\": {\"accountName\": \"platformcoin\", \"betAsset\": \"0.2000 EOS\", \"now\": 1542357963, \"payoutAsset\": \"0.3030 EOS\", \"diceNumber\": 14, \"seed\": \"MxujyrMxCR3Is8WuU7\", \"rollUnder\": 66}}}\n",
      "{\"type\": \"betReceipt\", \"payload\": {\"receipt\": {\"accountName\": \"zhanghangdev\", \"betAsset\": \"0.1000 EOS\", \"now\": 1542357963, \"payoutAsset\": \"0.0000 EOS\", \"diceNumber\": 83, \"seed\": \"sbwn9PqhBgQSJT8qEcFA\", \"rollUnder\": 50}}}\n",
      "{\"type\": \"betReceipt\", \"payload\": {\"receipt\": {\"accountName\": \"haytsobzgege\", \"betAsset\": \"100.0000 EOS\", \"now\": 1542357963, \"payoutAsset\": \"218.8888 EOS\", \"diceNumber\": 7, \"seed\": \"cTlCCcKzWiEHSlAALG\", \"rollUnder\": 46}}}\n",
      "{\"type\": \"betReceipt\", \"payload\": {\"receipt\": {\"accountName\": \"gq4dqojzgege\", \"betAsset\": \"1.0000 MEETONE\", \"now\": 1542357962, \"payoutAsset\": \"1.2628 MEETONE\", \"diceNumber\": 55, \"seed\": \"JT7ppt1p3cyACUmwaC\", \"rollUnder\": 79}}}\n",
      "{\"type\": \"betReceipt\", \"payload\": {\"receipt\": {\"accountName\": \"fuckeos2moon\", \"betAsset\": \"1.0000 EOS\", \"now\": 1542357963, \"payoutAsset\": \"0.0000 EOS\", \"diceNumber\": 92, \"seed\": \"Y0KUTK8TH1LVBXaKaV\", \"rollUnder\": 50}}}\n",
      "{\"type\": \"betReceipt\", \"payload\": {\"receipt\": {\"accountName\": \"eosrewardrop\", \"betAsset\": \"0.2000 EOS\", \"now\": 1542357962, \"payoutAsset\": \"0.0000 EOS\", \"diceNumber\": 83, \"seed\": \"CLbPP3zQSLPKlcS4By\", \"rollUnder\": 66}}}\n",
      "{\"type\": \"betReceipt\", \"payload\": {\"receipt\": {\"accountName\": \"gyytqojrhege\", \"betAsset\": \"50000.0000 KARMA\", \"now\": 1542357963, \"payoutAsset\": \"55337.0786 KARMA\", \"diceNumber\": 12, \"seed\": \"qCwFmKSDCquuTE3kxF\", \"rollUnder\": 90}}}\n",
      "{\"type\": \"betReceipt\", \"payload\": {\"receipt\": {\"accountName\": \"sukinneos123\", \"betAsset\": \"0.2000 EOS\", \"now\": 1542357964, \"payoutAsset\": \"0.2073 EOS\", \"diceNumber\": 59, \"seed\": \"fDmKq0MdQ0ZOlvkfRy\", \"rollUnder\": 96}}}\n",
      "{\"type\": \"betReceipt\", \"payload\": {\"receipt\": {\"accountName\": \"wanghongwei5\", \"betAsset\": \"0.3000 EOS\", \"now\": 1542357964, \"payoutAsset\": \"0.6566 EOS\", \"diceNumber\": 24, \"seed\": \"cflBv0Dp7r4LXSuNne\", \"rollUnder\": 46}}}\n",
      "{\"type\": \"betReceipt\", \"payload\": {\"receipt\": {\"accountName\": \"gu2dcmrzgige\", \"betAsset\": \"1.0000 EOS\", \"now\": 1542357964, \"payoutAsset\": \"0.0000 EOS\", \"diceNumber\": 54, \"seed\": \"9VX8IQ83l3pE5Jjrd2\", \"rollUnder\": 52}}}\n",
      "{\"type\": \"betReceipt\", \"payload\": {\"receipt\": {\"accountName\": \"eosupupgogog\", \"betAsset\": \"32.0000 EOS\", \"now\": 1542357965, \"payoutAsset\": \"43.1780 EOS\", \"diceNumber\": 21, \"seed\": \"W4M9noDuwu4UhkW2AU\", \"rollUnder\": 74}}}\n",
      "{\"type\": \"betReceipt\", \"payload\": {\"receipt\": {\"accountName\": \"byunghyunbbh\", \"betAsset\": \"8.0000 EOS\", \"now\": 1542357965, \"payoutAsset\": \"0.0000 EOS\", \"diceNumber\": 86, \"seed\": \"XaS0cC0AixpEM8gevj\", \"rollUnder\": 83}}}\n",
      "{\"type\": \"betReceipt\", \"payload\": {\"receipt\": {\"accountName\": \"haytsobzgege\", \"betAsset\": \"100.0000 EOS\", \"now\": 1542357966, \"payoutAsset\": \"0.0000 EOS\", \"diceNumber\": 78, \"seed\": \"BppUy6ShhWpeVZqtH4\", \"rollUnder\": 46}}}\n",
      "{\"type\": \"betReceipt\", \"payload\": {\"receipt\": {\"accountName\": \"platformcoin\", \"betAsset\": \"0.1000 EOS\", \"now\": 1542357966, \"payoutAsset\": \"0.1515 EOS\", \"diceNumber\": 61, \"seed\": \"wLAE9hHBUlksEUiAoT\", \"rollUnder\": 66}}}\n",
      "{\"type\": \"betReceipt\", \"payload\": {\"receipt\": {\"accountName\": \"bettobigmoon\", \"betAsset\": \"8390.9940 TPT\", \"now\": 1542357966, \"payoutAsset\": \"0.0000 TPT\", \"diceNumber\": 96, \"seed\": \"VWT29fIZhBBBSFBasV\", \"rollUnder\": 50}}}\n",
      "{\"type\": \"betReceipt\", \"payload\": {\"receipt\": {\"accountName\": \"sukinneos123\", \"betAsset\": \"0.2000 EOS\", \"now\": 1542357966, \"payoutAsset\": \"0.2073 EOS\", \"diceNumber\": 94, \"seed\": \"bLaw3OCfuVFdtHAiZs\", \"rollUnder\": 96}}}\n",
      "{\"type\": \"betReceipt\", \"payload\": {\"receipt\": {\"accountName\": \"xiaoyaoyin14\", \"betAsset\": \"0.1000 EOS\", \"now\": 1542357967, \"payoutAsset\": \"0.1036 EOS\", \"diceNumber\": 14, \"seed\": \"v2wkelljB47SGK2IuL\", \"rollUnder\": 96}}}\n",
      "{\"type\": \"betReceipt\", \"payload\": {\"receipt\": {\"accountName\": \"gq4dqojzgege\", \"betAsset\": \"1.0000 MEETONE\", \"now\": 1542357967, \"payoutAsset\": \"1.2628 MEETONE\", \"diceNumber\": 36, \"seed\": \"sFgcrdkCUYdhRYnHSu\", \"rollUnder\": 79}}}\n",
      "{\"type\": \"betReceipt\", \"payload\": {\"receipt\": {\"accountName\": \"purung212123\", \"betAsset\": \"1.0000 EOS\", \"now\": 1542357968, \"payoutAsset\": \"0.0000 EOS\", \"diceNumber\": 57, \"seed\": \"DY4oZaYRFKOWuw88Ro\", \"rollUnder\": 51}}}\n",
      "{\"type\": \"betReceipt\", \"payload\": {\"receipt\": {\"accountName\": \"gamingcenter\", \"betAsset\": \"0.2000 EOS\", \"now\": 1542357968, \"payoutAsset\": \"0.0000 EOS\", \"diceNumber\": 77, \"seed\": \"0HH2vned1QRWLICOA5\", \"rollUnder\": 66}}}\n",
      "{\"type\": \"betReceipt\", \"payload\": {\"receipt\": {\"accountName\": \"eosupupgogog\", \"betAsset\": \"32.0000 EOS\", \"now\": 1542357968, \"payoutAsset\": \"43.1780 EOS\", \"diceNumber\": 28, \"seed\": \"XjYWDx9CGVH1snn3t4\", \"rollUnder\": 74}}}\n",
      "{\"type\": \"betReceipt\", \"payload\": {\"receipt\": {\"accountName\": \"heytsnzxhege\", \"betAsset\": \"1.6000 EOS\", \"now\": 1542357969, \"payoutAsset\": \"2.4246 EOS\", \"diceNumber\": 39, \"seed\": \"lFLWaKoL9xohWIE20e\", \"rollUnder\": 66}}}\n",
      "{\"type\": \"betReceipt\", \"payload\": {\"receipt\": {\"accountName\": \"fuckeos2moon\", \"betAsset\": \"2.0000 EOS\", \"now\": 1542357969, \"payoutAsset\": \"0.0000 EOS\", \"diceNumber\": 71, \"seed\": \"kJR8XP9kTF1PREqdZ2\", \"rollUnder\": 50}}}\n",
      "{\"type\": \"betReceipt\", \"payload\": {\"receipt\": {\"accountName\": \"haytsobzgege\", \"betAsset\": \"100.0000 EOS\", \"now\": 1542357969, \"payoutAsset\": \"218.8888 EOS\", \"diceNumber\": 36, \"seed\": \"okmDL9gvuuPAWGLRAU\", \"rollUnder\": 46}}}\n",
      "{\"type\": \"betReceipt\", \"payload\": {\"receipt\": {\"accountName\": \"platformcoin\", \"betAsset\": \"0.1000 EOS\", \"now\": 1542357969, \"payoutAsset\": \"0.1515 EOS\", \"diceNumber\": 21, \"seed\": \"MujRqJtKlbMwCk1UHN\", \"rollUnder\": 66}}}\n",
      "{\"type\": \"betReceipt\", \"payload\": {\"receipt\": {\"accountName\": \"bettobigmoon\", \"betAsset\": \"8390.9940 TPT\", \"now\": 1542357969, \"payoutAsset\": \"16867.6103 TPT\", \"diceNumber\": 18, \"seed\": \"rH78LbWr01nq2brMp1\", \"rollUnder\": 50}}}\n",
      "{\"type\": \"betReceipt\", \"payload\": {\"receipt\": {\"accountName\": \"wanghongwei5\", \"betAsset\": \"0.3000 EOS\", \"now\": 1542357969, \"payoutAsset\": \"0.4477 EOS\", \"diceNumber\": 6, \"seed\": \"06rka2MrmTJh1DyYSa\", \"rollUnder\": 67}}}\n",
      "{\"type\": \"betReceipt\", \"payload\": {\"receipt\": {\"accountName\": \"sukinneos123\", \"betAsset\": \"0.2000 EOS\", \"now\": 1542357969, \"payoutAsset\": \"0.2073 EOS\", \"diceNumber\": 69, \"seed\": \"9POS1zYTBO4B9yZXTA\", \"rollUnder\": 96}}}\n",
      "{\"type\": \"betReceipt\", \"payload\": {\"receipt\": {\"accountName\": \"gyytqojrhege\", \"betAsset\": \"50000.0000 KARMA\", \"now\": 1542357970, \"payoutAsset\": \"55337.0786 KARMA\", \"diceNumber\": 14, \"seed\": \"BwZKiY6oqxuu5FiFun\", \"rollUnder\": 90}}}\n",
      "{\"type\": \"betReceipt\", \"payload\": {\"receipt\": {\"accountName\": \"zhong1221wen\", \"betAsset\": \"0.2000 EOS\", \"now\": 1542357970, \"payoutAsset\": \"0.0000 EOS\", \"diceNumber\": 63, \"seed\": \"MMQHKvQFK5ANpcPvwl\", \"rollUnder\": 60}}}\n",
      "{\"type\": \"betReceipt\", \"payload\": {\"receipt\": {\"accountName\": \"eosxing1xing\", \"betAsset\": \"0.1000 EOS\", \"now\": 1542357970, \"payoutAsset\": \"0.0000 EOS\", \"diceNumber\": 73, \"seed\": \"2bVyytzlmFpCGqjZTa\", \"rollUnder\": 50}}}\n"
     ]
    },
    {
     "name": "stderr",
     "output_type": "stream",
     "text": [
      "error from callback <function on_message at 0x11dfa9bf8>: Expecting value: line 1 column 1 (char 0)\n",
      "  File \"/anaconda3/lib/python3.6/site-packages/websocket/_app.py\", line 345, in _callback\n",
      "    callback(self, *args)\n",
      "  File \"<ipython-input-12-7abfb35e4037>\", line 14, in on_message\n",
      "    iteration = json.loads(striped)\n",
      "  File \"/anaconda3/lib/python3.6/json/__init__.py\", line 354, in loads\n",
      "    return _default_decoder.decode(s)\n",
      "  File \"/anaconda3/lib/python3.6/json/decoder.py\", line 339, in decode\n",
      "    obj, end = self.raw_decode(s, idx=_w(s, 0).end())\n",
      "  File \"/anaconda3/lib/python3.6/json/decoder.py\", line 357, in raw_decode\n",
      "    raise JSONDecodeError(\"Expecting value\", s, err.value) from None\n"
     ]
    },
    {
     "name": "stdout",
     "output_type": "stream",
     "text": [
      "{\"type\": \"betReceipt\", \"payload\": {\"receipt\": {\"accountName\": \"byunghyunbbh\", \"betAsset\": \"4.0000 EOS\", \"now\": 1542357970, \"payoutAsset\": \"0.0000 EOS\", \"diceNumber\": 100, \"seed\": \"2ZEksGFUYshz2jikB7\", \"rollUnder\": 83}}}\n",
      "{\"type\": \"betReceipt\", \"payload\": {\"receipt\": {\"accountName\": \"zhanghangdev\", \"betAsset\": \"4804.8000 MEETONE\", \"now\": 1542357971, \"payoutAsset\": \"0.0000 MEETONE\", \"diceNumber\": 100, \"seed\": \"4mByo9SuWYOYgnw2YAkZ\", \"rollUnder\": 50}}}\n",
      "{\"type\": \"betReceipt\", \"payload\": {\"receipt\": {\"accountName\": \"chuan1112222\", \"betAsset\": \"0.2000 EOS\", \"now\": 1542357971, \"payoutAsset\": \"0.2402 EOS\", \"diceNumber\": 57, \"seed\": \"WJENliqaSe0gxRDZom\", \"rollUnder\": 83}}}\n",
      "{\"type\": \"betReceipt\", \"payload\": {\"receipt\": {\"accountName\": \"gq4dqojzgege\", \"betAsset\": \"1.0000 MEETONE\", \"now\": 1542357971, \"payoutAsset\": \"1.2628 MEETONE\", \"diceNumber\": 57, \"seed\": \"f5VkETh6gLD1bXsLvD\", \"rollUnder\": 79}}}\n",
      "{\"type\": \"betReceipt\", \"payload\": {\"receipt\": {\"accountName\": \"eosupupgogog\", \"betAsset\": \"32.0000 EOS\", \"now\": 1542357971, \"payoutAsset\": \"43.1780 EOS\", \"diceNumber\": 10, \"seed\": \"alvhRI21jF7kA5AA7B\", \"rollUnder\": 74}}}\n",
      "{\"type\": \"betReceipt\", \"payload\": {\"receipt\": {\"accountName\": \"bettobigmoon\", \"betAsset\": \"1.0000 TPT\", \"now\": 1542357971, \"payoutAsset\": \"0.0000 TPT\", \"diceNumber\": 90, \"seed\": \"cTz0pwZpuuLkPm4JH6\", \"rollUnder\": 50}}}\n",
      "{\"type\": \"betReceipt\", \"payload\": {\"receipt\": {\"accountName\": \"gu2dcmrzgige\", \"betAsset\": \"2.0000 EOS\", \"now\": 1542357971, \"payoutAsset\": \"0.0000 EOS\", \"diceNumber\": 86, \"seed\": \"plwJfSVpGuwBffdycn\", \"rollUnder\": 52}}}\n",
      "{\"type\": \"betReceipt\", \"payload\": {\"receipt\": {\"accountName\": \"heytsnzxhege\", \"betAsset\": \"1.6000 EOS\", \"now\": 1542357972, \"payoutAsset\": \"0.0000 EOS\", \"diceNumber\": 76, \"seed\": \"vpTohZtB9eyfzKW8Wy\", \"rollUnder\": 66}}}\n",
      "{\"type\": \"betReceipt\", \"payload\": {\"receipt\": {\"accountName\": \"platformcoin\", \"betAsset\": \"0.1000 EOS\", \"now\": 1542357972, \"payoutAsset\": \"0.1515 EOS\", \"diceNumber\": 60, \"seed\": \"wWCSeHge6mqPEzpB1U\", \"rollUnder\": 66}}}\n",
      "{\"type\": \"betReceipt\", \"payload\": {\"receipt\": {\"accountName\": \"haytsobzgege\", \"betAsset\": \"100.0000 EOS\", \"now\": 1542357972, \"payoutAsset\": \"218.8888 EOS\", \"diceNumber\": 21, \"seed\": \"Hohxj7E6e9S8oD94GP\", \"rollUnder\": 46}}}\n",
      "{\"type\": \"betReceipt\", \"payload\": {\"receipt\": {\"accountName\": \"wanghongwei5\", \"betAsset\": \"0.3000 EOS\", \"now\": 1542357972, \"payoutAsset\": \"0.4477 EOS\", \"diceNumber\": 16, \"seed\": \"zxQMRfTPyWZm2JnmKB\", \"rollUnder\": 67}}}\n",
      "{\"type\": \"betReceipt\", \"payload\": {\"receipt\": {\"accountName\": \"eosrewardrop\", \"betAsset\": \"0.4000 EOS\", \"now\": 1542357973, \"payoutAsset\": \"0.6061 EOS\", \"diceNumber\": 20, \"seed\": \"NFgZdgBHZXycDxdZKw\", \"rollUnder\": 66}}}\n",
      "{\"type\": \"betReceipt\", \"payload\": {\"receipt\": {\"accountName\": \"sukinneos123\", \"betAsset\": \"0.2000 EOS\", \"now\": 1542357973, \"payoutAsset\": \"0.2073 EOS\", \"diceNumber\": 29, \"seed\": \"oApgwQWuv6Ze1PTSJH\", \"rollUnder\": 96}}}\n",
      "{\"type\": \"betReceipt\", \"payload\": {\"receipt\": {\"accountName\": \"geydknrsgage\", \"betAsset\": \"0.1250 EOS\", \"now\": 1542357974, \"payoutAsset\": \"0.1383 EOS\", \"diceNumber\": 64, \"seed\": \"U7JM00FxVhLCJtADEF\", \"rollUnder\": 90}}}\n",
      "{\"type\": \"betReceipt\", \"payload\": {\"receipt\": {\"accountName\": \"sxbtothemoon\", \"betAsset\": \"1.0000 EOS\", \"now\": 1542357975, \"payoutAsset\": \"0.0000 EOS\", \"diceNumber\": 83, \"seed\": \"FaUu9lTZJWMS5kmEDs\", \"rollUnder\": 50}}}\n",
      "{\"type\": \"betReceipt\", \"payload\": {\"receipt\": {\"accountName\": \"fuckeos2moon\", \"betAsset\": \"4.0000 EOS\", \"now\": 1542357975, \"payoutAsset\": \"0.0000 EOS\", \"diceNumber\": 71, \"seed\": \"HTZdT8Lz5C4X6ZYXKZ\", \"rollUnder\": 50}}}\n",
      "{\"type\": \"betReceipt\", \"payload\": {\"receipt\": {\"accountName\": \"zxc112233444\", \"betAsset\": \"4.0000 EOS\", \"now\": 1542357975, \"payoutAsset\": \"4.9250 EOS\", \"diceNumber\": 10, \"seed\": \"geWI7yIUe4ck5cLQCv\", \"rollUnder\": 81}}}\n",
      "{\"type\": \"betReceipt\", \"payload\": {\"receipt\": {\"accountName\": \"eosupupgogog\", \"betAsset\": \"32.0000 EOS\", \"now\": 1542357975, \"payoutAsset\": \"0.0000 EOS\", \"diceNumber\": 98, \"seed\": \"CmkvheGtyVGktppIpg\", \"rollUnder\": 74}}}\n",
      "{\"type\": \"betReceipt\", \"payload\": {\"receipt\": {\"accountName\": \"platformcoin\", \"betAsset\": \"0.1000 EOS\", \"now\": 1542357975, \"payoutAsset\": \"0.0000 EOS\", \"diceNumber\": 100, \"seed\": \"okAhvZHzGDXpfujnZG\", \"rollUnder\": 66}}}\n",
      "{\"type\": \"betReceipt\", \"payload\": {\"receipt\": {\"accountName\": \"dorywallet14\", \"betAsset\": \"0.8000 EOS\", \"now\": 1542357975, \"payoutAsset\": \"0.0000 EOS\", \"diceNumber\": 72, \"seed\": \"WxqHyX6UJ85up6Iij3\", \"rollUnder\": 51}}}\n",
      "{\"type\": \"betReceipt\", \"payload\": {\"receipt\": {\"accountName\": \"xiaoyaoyin14\", \"betAsset\": \"0.1000 EOS\", \"now\": 1542357976, \"payoutAsset\": \"0.1036 EOS\", \"diceNumber\": 95, \"seed\": \"CDh8phwD7dNZgSkqIH\", \"rollUnder\": 96}}}\n",
      "{\"type\": \"betReceipt\", \"payload\": {\"receipt\": {\"accountName\": \"eosrewardrop\", \"betAsset\": \"0.4000 EOS\", \"now\": 1542357975, \"payoutAsset\": \"0.0000 EOS\", \"diceNumber\": 69, \"seed\": \"AaIHs7JMRWHJi6zp9q\", \"rollUnder\": 66}}}\n",
      "{\"type\": \"betReceipt\", \"payload\": {\"receipt\": {\"accountName\": \"gq4dqojzgege\", \"betAsset\": \"1.0000 MEETONE\", \"now\": 1542357975, \"payoutAsset\": \"1.2628 MEETONE\", \"diceNumber\": 69, \"seed\": \"EVU6QBpit7kIHR0Lln\", \"rollUnder\": 79}}}\n",
      "{\"type\": \"betReceipt\", \"payload\": {\"receipt\": {\"accountName\": \"gyytqojrhege\", \"betAsset\": \"50000.0000 KARMA\", \"now\": 1542357975, \"payoutAsset\": \"55337.0786 KARMA\", \"diceNumber\": 5, \"seed\": \"vfgTJTwTxQv23m11cJ\", \"rollUnder\": 90}}}\n",
      "{\"type\": \"betReceipt\", \"payload\": {\"receipt\": {\"accountName\": \"sukinneos123\", \"betAsset\": \"0.2000 EOS\", \"now\": 1542357976, \"payoutAsset\": \"0.2073 EOS\", \"diceNumber\": 16, \"seed\": \"XB525hHaxeJedqQV3R\", \"rollUnder\": 96}}}\n",
      "{\"type\": \"betReceipt\", \"payload\": {\"receipt\": {\"accountName\": \"byunghyunbbh\", \"betAsset\": \"2.0000 EOS\", \"now\": 1542357976, \"payoutAsset\": \"2.4024 EOS\", \"diceNumber\": 25, \"seed\": \"qg8YLBef1XW3oHRjTB\", \"rollUnder\": 83}}}\n",
      "{\"type\": \"betReceipt\", \"payload\": {\"receipt\": {\"accountName\": \"bettobigmoon\", \"betAsset\": \"33563.9761 TPT\", \"now\": 1542357976, \"payoutAsset\": \"67470.4417 TPT\", \"diceNumber\": 4, \"seed\": \"6lHA6rnJB3mJ9ijFqM\", \"rollUnder\": 50}}}\n",
      "{\"type\": \"betReceipt\", \"payload\": {\"receipt\": {\"accountName\": \"eosxing1xing\", \"betAsset\": \"0.1000 EOS\", \"now\": 1542357977, \"payoutAsset\": \"0.2010 EOS\", \"diceNumber\": 29, \"seed\": \"aBoEX3892Sshimm3an\", \"rollUnder\": 50}}}\n",
      "{\"type\": \"betReceipt\", \"payload\": {\"receipt\": {\"accountName\": \"wanghongwei5\", \"betAsset\": \"0.3000 EOS\", \"now\": 1542357976, \"payoutAsset\": \"0.3283 EOS\", \"diceNumber\": 32, \"seed\": \"5BfugmkfjPL8MvstRl\", \"rollUnder\": 91}}}\n",
      "{\"type\": \"betReceipt\", \"payload\": {\"receipt\": {\"accountName\": \"gamingcenter\", \"betAsset\": \"0.4000 EOS\", \"now\": 1542357978, \"payoutAsset\": \"0.6061 EOS\", \"diceNumber\": 35, \"seed\": \"xJd3eBUmBQ2UGYSbCk\", \"rollUnder\": 66}}}\n",
      "{\"type\": \"betReceipt\", \"payload\": {\"receipt\": {\"accountName\": \"gu2dcmrzgige\", \"betAsset\": \"4.0000 EOS\", \"now\": 1542357978, \"payoutAsset\": \"0.0000 EOS\", \"diceNumber\": 95, \"seed\": \"9ODIzRMSTFkZPhftB0\", \"rollUnder\": 52}}}\n",
      "{\"type\": \"betReceipt\", \"payload\": {\"receipt\": {\"accountName\": \"purung212123\", \"betAsset\": \"2.0000 EOS\", \"now\": 1542357979, \"payoutAsset\": \"3.9400 EOS\", \"diceNumber\": 50, \"seed\": \"GIEelHTEdx1MdjLA47\", \"rollUnder\": 51}}}\n",
      "{\"type\": \"betReceipt\", \"payload\": {\"receipt\": {\"accountName\": \"eossss555555\", \"betAsset\": \"2.0000 TPT\", \"now\": 1542357978, \"payoutAsset\": \"0.0000 TPT\", \"diceNumber\": 51, \"seed\": \"Eqg6WZJMUy2muiagld\", \"rollUnder\": 50}}}\n",
      "{\"type\": \"betReceipt\", \"payload\": {\"receipt\": {\"accountName\": \"wpcheng12345\", \"betAsset\": \"2.0000 EOS\", \"now\": 1542357979, \"payoutAsset\": \"4.0204 EOS\", \"diceNumber\": 3, \"seed\": \"gamjx6yNrauyqegAFb\", \"rollUnder\": 50}}}\n",
      "{\"type\": \"betReceipt\", \"payload\": {\"receipt\": {\"accountName\": \"byunghyunbbh\", \"betAsset\": \"2.0000 EOS\", \"now\": 1542357979, \"payoutAsset\": \"2.4024 EOS\", \"diceNumber\": 22, \"seed\": \"1DNQcBoS8I7wSHjT54\", \"rollUnder\": 83}}}\n",
      "{\"type\": \"betReceipt\", \"payload\": {\"receipt\": {\"accountName\": \"gq4dqojzgege\", \"betAsset\": \"1.0000 MEETONE\", \"now\": 1542357980, \"payoutAsset\": \"1.2628 MEETONE\", \"diceNumber\": 72, \"seed\": \"dssTVJtSJaCDJyb4gN\", \"rollUnder\": 79}}}\n",
      "{\"type\": \"betReceipt\", \"payload\": {\"receipt\": {\"accountName\": \"doksanback12\", \"betAsset\": \"0.1993 EOS\", \"now\": 1542357980, \"payoutAsset\": \"0.2066 EOS\", \"diceNumber\": 51, \"seed\": \"Iz8Uwdj0mNbMkdJfkn\", \"rollUnder\": 96}}}\n",
      "{\"type\": \"betReceipt\", \"payload\": {\"receipt\": {\"accountName\": \"fuckeos2moon\", \"betAsset\": \"8.0000 EOS\", \"now\": 1542357980, \"payoutAsset\": \"16.0816 EOS\", \"diceNumber\": 21, \"seed\": \"cWNHheXm5HzSen7WiS\", \"rollUnder\": 50}}}\n",
      "{\"type\": \"betReceipt\", \"payload\": {\"receipt\": {\"accountName\": \"wanghongwei5\", \"betAsset\": \"0.3000 EOS\", \"now\": 1542357981, \"payoutAsset\": \"0.3993 EOS\", \"diceNumber\": 6, \"seed\": \"rKgq8AlqMbIDbVBUCj\", \"rollUnder\": 75}}}\n",
      "{\"type\": \"betReceipt\", \"payload\": {\"receipt\": {\"accountName\": \"sxbtothemoon\", \"betAsset\": \"2.0000 EOS\", \"now\": 1542357981, \"payoutAsset\": \"0.0000 EOS\", \"diceNumber\": 91, \"seed\": \"S4y8yMQzxb4s4CSovN\", \"rollUnder\": 50}}}\n"
     ]
    },
    {
     "name": "stdout",
     "output_type": "stream",
     "text": [
      "{\"type\": \"betReceipt\", \"payload\": {\"receipt\": {\"accountName\": \"eosupupgogog\", \"betAsset\": \"16.0000 EOS\", \"now\": 1542357980, \"payoutAsset\": \"21.5890 EOS\", \"diceNumber\": 13, \"seed\": \"Ofw9NUbxBsFt3895tr\", \"rollUnder\": 74}}}\n",
      "{\"type\": \"betReceipt\", \"payload\": {\"receipt\": {\"accountName\": \"gyytqojrhege\", \"betAsset\": \"50000.0000 KARMA\", \"now\": 1542357981, \"payoutAsset\": \"55337.0786 KARMA\", \"diceNumber\": 24, \"seed\": \"SETL6DdMqraKJWDwZT\", \"rollUnder\": 90}}}\n",
      "{\"type\": \"betReceipt\", \"payload\": {\"receipt\": {\"accountName\": \"bettobigmoon\", \"betAsset\": \"1.0000 TPT\", \"now\": 1542357981, \"payoutAsset\": \"2.0102 TPT\", \"diceNumber\": 21, \"seed\": \"F0dQPuPVb9RRroEjdg\", \"rollUnder\": 50}}}\n",
      "{\"type\": \"betReceipt\", \"payload\": {\"receipt\": {\"accountName\": \"heytsnzxhege\", \"betAsset\": \"3.2000 EOS\", \"now\": 1542357981, \"payoutAsset\": \"4.8492 EOS\", \"diceNumber\": 55, \"seed\": \"wJhRvTXw8XII2bRJ38\", \"rollUnder\": 66}}}\n"
     ]
    },
    {
     "name": "stderr",
     "output_type": "stream",
     "text": [
      "error from callback <function on_message at 0x11dfa9bf8>: Expecting value: line 1 column 1 (char 0)\n",
      "  File \"/anaconda3/lib/python3.6/site-packages/websocket/_app.py\", line 345, in _callback\n",
      "    callback(self, *args)\n",
      "  File \"<ipython-input-12-7abfb35e4037>\", line 14, in on_message\n",
      "    iteration = json.loads(striped)\n",
      "  File \"/anaconda3/lib/python3.6/json/__init__.py\", line 354, in loads\n",
      "    return _default_decoder.decode(s)\n",
      "  File \"/anaconda3/lib/python3.6/json/decoder.py\", line 339, in decode\n",
      "    obj, end = self.raw_decode(s, idx=_w(s, 0).end())\n",
      "  File \"/anaconda3/lib/python3.6/json/decoder.py\", line 357, in raw_decode\n",
      "    raise JSONDecodeError(\"Expecting value\", s, err.value) from None\n"
     ]
    },
    {
     "name": "stdout",
     "output_type": "stream",
     "text": [
      "{\"type\": \"betReceipt\", \"payload\": {\"receipt\": {\"accountName\": \"gu2dcmrzgige\", \"betAsset\": \"8.0000 EOS\", \"now\": 1542357983, \"payoutAsset\": \"15.4509 EOS\", \"diceNumber\": 10, \"seed\": \"oio85gtLwhaJxPdd2s\", \"rollUnder\": 52}}}\n",
      "{\"type\": \"betReceipt\", \"payload\": {\"receipt\": {\"accountName\": \"wanghongwei5\", \"betAsset\": \"0.3000 EOS\", \"now\": 1542357983, \"payoutAsset\": \"0.3993 EOS\", \"diceNumber\": 47, \"seed\": \"cnFg9ZiyRYcnytkpgu\", \"rollUnder\": 75}}}\n",
      "{\"type\": \"betReceipt\", \"payload\": {\"receipt\": {\"accountName\": \"eosupupgogog\", \"betAsset\": \"16.0000 EOS\", \"now\": 1542357984, \"payoutAsset\": \"0.0000 EOS\", \"diceNumber\": 88, \"seed\": \"WkvjnEOQpKAp9IFJeS\", \"rollUnder\": 74}}}\n",
      "{\"type\": \"betReceipt\", \"payload\": {\"receipt\": {\"accountName\": \"doksanback12\", \"betAsset\": \"0.1993 EOS\", \"now\": 1542357983, \"payoutAsset\": \"0.2066 EOS\", \"diceNumber\": 13, \"seed\": \"623AZKWmiPU9L8QlYn\", \"rollUnder\": 96}}}\n",
      "{\"type\": \"betReceipt\", \"payload\": {\"receipt\": {\"accountName\": \"sukinneos123\", \"betAsset\": \"0.2000 EOS\", \"now\": 1542357984, \"payoutAsset\": \"0.2073 EOS\", \"diceNumber\": 61, \"seed\": \"brfwKWHlC0srpAAdGi\", \"rollUnder\": 96}}}\n",
      "{\"type\": \"betReceipt\", \"payload\": {\"receipt\": {\"accountName\": \"xiaoyaoyin14\", \"betAsset\": \"0.1000 EOS\", \"now\": 1542357984, \"payoutAsset\": \"0.1036 EOS\", \"diceNumber\": 89, \"seed\": \"g7DhAMHI13kUVEpZAN\", \"rollUnder\": 96}}}\n",
      "{\"type\": \"betReceipt\", \"payload\": {\"receipt\": {\"accountName\": \"platformcoin\", \"betAsset\": \"0.2000 EOS\", \"now\": 1542357985, \"payoutAsset\": \"0.3030 EOS\", \"diceNumber\": 65, \"seed\": \"OmicKs2YWpqkjmH1AL\", \"rollUnder\": 66}}}\n",
      "{\"type\": \"betReceipt\", \"payload\": {\"receipt\": {\"accountName\": \"bettobigmoon\", \"betAsset\": \"1.0000 TPT\", \"now\": 1542357985, \"payoutAsset\": \"0.0000 TPT\", \"diceNumber\": 56, \"seed\": \"wQnjXxg8Kb3OHgE3NG\", \"rollUnder\": 50}}}\n",
      "{\"type\": \"betReceipt\", \"payload\": {\"receipt\": {\"accountName\": \"gq4dqojzgege\", \"betAsset\": \"1.0000 MEETONE\", \"now\": 1542357985, \"payoutAsset\": \"1.2628 MEETONE\", \"diceNumber\": 46, \"seed\": \"MjR6VrNLx6ADp2WtiT\", \"rollUnder\": 79}}}\n",
      "{\"type\": \"betReceipt\", \"payload\": {\"receipt\": {\"accountName\": \"byunghyunbbh\", \"betAsset\": \"2.0000 EOS\", \"now\": 1542357984, \"payoutAsset\": \"2.4024 EOS\", \"diceNumber\": 62, \"seed\": \"kHHmesywsR5PstAhaQ\", \"rollUnder\": 83}}}\n",
      "{\"type\": \"betReceipt\", \"payload\": {\"receipt\": {\"accountName\": \"eosrewardrop\", \"betAsset\": \"0.8000 EOS\", \"now\": 1542357985, \"payoutAsset\": \"0.0000 EOS\", \"diceNumber\": 88, \"seed\": \"liAZDcXKcbGLkeiI9a\", \"rollUnder\": 66}}}\n",
      "{\"type\": \"betReceipt\", \"payload\": {\"receipt\": {\"accountName\": \"fuckeos2moon\", \"betAsset\": \"1.0000 EOS\", \"now\": 1542357986, \"payoutAsset\": \"0.0000 EOS\", \"diceNumber\": 56, \"seed\": \"Lon90lMufeC9dSTBt9\", \"rollUnder\": 50}}}\n",
      "{\"type\": \"betReceipt\", \"payload\": {\"receipt\": {\"accountName\": \"wpcheng12345\", \"betAsset\": \"2.0000 EOS\", \"now\": 1542357986, \"payoutAsset\": \"0.0000 EOS\", \"diceNumber\": 84, \"seed\": \"6jgAvlPiT1KyngbjKR\", \"rollUnder\": 50}}}\n",
      "{\"type\": \"betReceipt\", \"payload\": {\"receipt\": {\"accountName\": \"heytsnzxhege\", \"betAsset\": \"3.2000 EOS\", \"now\": 1542357986, \"payoutAsset\": \"4.8492 EOS\", \"diceNumber\": 60, \"seed\": \"DH9IPlEQug1Td5lN8j\", \"rollUnder\": 66}}}\n",
      "{\"type\": \"betReceipt\", \"payload\": {\"receipt\": {\"accountName\": \"wanghongwei5\", \"betAsset\": \"0.3000 EOS\", \"now\": 1542357987, \"payoutAsset\": \"0.3993 EOS\", \"diceNumber\": 7, \"seed\": \"7Z37jtW1j6yhYD9gnZ\", \"rollUnder\": 75}}}\n",
      "{\"type\": \"betReceipt\", \"payload\": {\"receipt\": {\"accountName\": \"gyytqojrhege\", \"betAsset\": \"50000.0000 KARMA\", \"now\": 1542357987, \"payoutAsset\": \"55337.0786 KARMA\", \"diceNumber\": 49, \"seed\": \"FIUzIfCfOcln2oTjHu\", \"rollUnder\": 90}}}\n",
      "{\"type\": \"betReceipt\", \"payload\": {\"receipt\": {\"accountName\": \"sukinneos123\", \"betAsset\": \"0.2000 EOS\", \"now\": 1542357987, \"payoutAsset\": \"0.2073 EOS\", \"diceNumber\": 43, \"seed\": \"1xsbPHAaTb0d8oKagA\", \"rollUnder\": 96}}}\n",
      "{\"type\": \"betReceipt\", \"payload\": {\"receipt\": {\"accountName\": \"platformcoin\", \"betAsset\": \"0.2000 EOS\", \"now\": 1542357988, \"payoutAsset\": \"0.3030 EOS\", \"diceNumber\": 39, \"seed\": \"uvP1j0F2aQVuS3PEjl\", \"rollUnder\": 66}}}\n",
      "{\"type\": \"betReceipt\", \"payload\": {\"receipt\": {\"accountName\": \"zhanghangdev\", \"betAsset\": \"0.1000 EOS\", \"now\": 1542357987, \"payoutAsset\": \"0.0000 EOS\", \"diceNumber\": 70, \"seed\": \"lPIEA3tzIcW19d5MTz9W\", \"rollUnder\": 50}}}\n",
      "{\"type\": \"betReceipt\", \"payload\": {\"receipt\": {\"accountName\": \"byunghyunbbh\", \"betAsset\": \"2.0000 EOS\", \"now\": 1542357989, \"payoutAsset\": \"2.4024 EOS\", \"diceNumber\": 59, \"seed\": \"TdoIWbgbWgrC4KhKeC\", \"rollUnder\": 83}}}\n",
      "{\"type\": \"betReceipt\", \"payload\": {\"receipt\": {\"accountName\": \"eosabllagooo\", \"betAsset\": \"0.1000 EOS\", \"now\": 1542357988, \"payoutAsset\": \"0.0000 EOS\", \"diceNumber\": 85, \"seed\": \"SaEPTtl1Fb6cEbXJzK\", \"rollUnder\": 50}}}\n",
      "{\"type\": \"betReceipt\", \"payload\": {\"receipt\": {\"accountName\": \"gq4dqojzgege\", \"betAsset\": \"1.0000 MEETONE\", \"now\": 1542357989, \"payoutAsset\": \"1.2628 MEETONE\", \"diceNumber\": 11, \"seed\": \"Yk8TtnMKgDcLZgzjO3\", \"rollUnder\": 79}}}\n",
      "{\"type\": \"betReceipt\", \"payload\": {\"receipt\": {\"accountName\": \"eosupupgogog\", \"betAsset\": \"8.0000 EOS\", \"now\": 1542357990, \"payoutAsset\": \"10.7945 EOS\", \"diceNumber\": 30, \"seed\": \"dMaGS9BCVACTYpLNL7\", \"rollUnder\": 74}}}\n",
      "{\"type\": \"betReceipt\", \"payload\": {\"receipt\": {\"accountName\": \"bettobigmoon\", \"betAsset\": \"33563.9761 TPT\", \"now\": 1542357990, \"payoutAsset\": \"67470.4417 TPT\", \"diceNumber\": 18, \"seed\": \"0SthetDF4RG1xHJnUt\", \"rollUnder\": 50}}}\n",
      "{\"type\": \"betReceipt\", \"payload\": {\"receipt\": {\"accountName\": \"heytsnzxhege\", \"betAsset\": \"0.1000 EOS\", \"now\": 1542357989, \"payoutAsset\": \"0.1515 EOS\", \"diceNumber\": 43, \"seed\": \"8gGmTzbvXcT1YPmjmm\", \"rollUnder\": 66}}}\n",
      "{\"type\": \"betReceipt\", \"payload\": {\"receipt\": {\"accountName\": \"eosxing1xing\", \"betAsset\": \"0.1000 EOS\", \"now\": 1542357989, \"payoutAsset\": \"0.0000 EOS\", \"diceNumber\": 80, \"seed\": \"bIZMNGR469vUN1bmUX\", \"rollUnder\": 50}}}\n",
      "{\"type\": \"betReceipt\", \"payload\": {\"receipt\": {\"accountName\": \"sukinneos123\", \"betAsset\": \"0.2000 EOS\", \"now\": 1542357990, \"payoutAsset\": \"0.2073 EOS\", \"diceNumber\": 52, \"seed\": \"inNwtoMvVmSKXpTubO\", \"rollUnder\": 96}}}\n",
      "{\"type\": \"betReceipt\", \"payload\": {\"receipt\": {\"accountName\": \"purung212123\", \"betAsset\": \"1.0000 EOS\", \"now\": 1542357990, \"payoutAsset\": \"1.9700 EOS\", \"diceNumber\": 48, \"seed\": \"4SrkMd3Z5adWn72lBv\", \"rollUnder\": 51}}}\n",
      "{\"type\": \"betReceipt\", \"payload\": {\"receipt\": {\"accountName\": \"platformcoin\", \"betAsset\": \"0.1000 EOS\", \"now\": 1542357991, \"payoutAsset\": \"0.1515 EOS\", \"diceNumber\": 44, \"seed\": \"34E2jJx7eGFyCy6Jt5\", \"rollUnder\": 66}}}\n",
      "{\"type\": \"betReceipt\", \"payload\": {\"receipt\": {\"accountName\": \"fuckeos2moon\", \"betAsset\": \"2.0000 EOS\", \"now\": 1542357991, \"payoutAsset\": \"0.0000 EOS\", \"diceNumber\": 85, \"seed\": \"sevuHUMNH0vJlXP5Wm\", \"rollUnder\": 50}}}\n",
      "{\"type\": \"betReceipt\", \"payload\": {\"receipt\": {\"accountName\": \"wanghongwei5\", \"betAsset\": \"0.3000 EOS\", \"now\": 1542357991, \"payoutAsset\": \"0.3283 EOS\", \"diceNumber\": 87, \"seed\": \"HBl55MM99ggVdWbfGK\", \"rollUnder\": 91}}}\n",
      "{\"type\": \"betReceipt\", \"payload\": {\"receipt\": {\"accountName\": \"guztemzzgyge\", \"betAsset\": \"4.0000 EOS\", \"now\": 1542357992, \"payoutAsset\": \"8.2083 EOS\", \"diceNumber\": 32, \"seed\": \"fMJuygIne0dhDnfzai\", \"rollUnder\": 49}}}\n",
      "{\"type\": \"betReceipt\", \"payload\": {\"receipt\": {\"accountName\": \"eosupupgogog\", \"betAsset\": \"8.0000 EOS\", \"now\": 1542357993, \"payoutAsset\": \"0.0000 EOS\", \"diceNumber\": 95, \"seed\": \"PlftYoELcrgAzmHwXU\", \"rollUnder\": 74}}}\n",
      "{\"type\": \"betReceipt\", \"payload\": {\"receipt\": {\"accountName\": \"wpcheng12345\", \"betAsset\": \"2.0000 EOS\", \"now\": 1542357992, \"payoutAsset\": \"0.0000 EOS\", \"diceNumber\": 55, \"seed\": \"o7OJS4rV3H10XQIBdl\", \"rollUnder\": 50}}}\n",
      "{\"type\": \"betReceipt\", \"payload\": {\"receipt\": {\"accountName\": \"eosabllagooo\", \"betAsset\": \"0.1000 EOS\", \"now\": 1542357993, \"payoutAsset\": \"0.2010 EOS\", \"diceNumber\": 38, \"seed\": \"7COSsoU8L27D2hV89o\", \"rollUnder\": 50}}}\n",
      "{\"type\": \"betReceipt\", \"payload\": {\"receipt\": {\"accountName\": \"heytsnzxhege\", \"betAsset\": \"0.1000 EOS\", \"now\": 1542357993, \"payoutAsset\": \"0.1515 EOS\", \"diceNumber\": 51, \"seed\": \"CEHZ95iAs49Nsx88Mi\", \"rollUnder\": 66}}}\n",
      "{\"type\": \"betReceipt\", \"payload\": {\"receipt\": {\"accountName\": \"gu2dcmrzgige\", \"betAsset\": \"0.2500 EOS\", \"now\": 1542357993, \"payoutAsset\": \"0.0000 EOS\", \"diceNumber\": 62, \"seed\": \"sHCoEWtIhapfRZ6tbT\", \"rollUnder\": 52}}}\n",
      "{\"type\": \"betReceipt\", \"payload\": {\"receipt\": {\"accountName\": \"sukinneos123\", \"betAsset\": \"0.2000 EOS\", \"now\": 1542357993, \"payoutAsset\": \"0.2073 EOS\", \"diceNumber\": 92, \"seed\": \"yhMsNNzGChTuBWSwdo\", \"rollUnder\": 96}}}\n",
      "{\"type\": \"betReceipt\", \"payload\": {\"receipt\": {\"accountName\": \"zxc112233444\", \"betAsset\": \"8.0000 EOS\", \"now\": 1542357994, \"payoutAsset\": \"9.8500 EOS\", \"diceNumber\": 34, \"seed\": \"6ydbbUec9FI9zBSkKI\", \"rollUnder\": 81}}}\n",
      "{\"type\": \"betReceipt\", \"payload\": {\"receipt\": {\"accountName\": \"gq4dqojzgege\", \"betAsset\": \"1.0000 MEETONE\", \"now\": 1542357993, \"payoutAsset\": \"0.0000 MEETONE\", \"diceNumber\": 80, \"seed\": \"RTDzvr7akHjJLO0Jdf\", \"rollUnder\": 79}}}\n"
     ]
    },
    {
     "name": "stdout",
     "output_type": "stream",
     "text": [
      "{\"type\": \"betReceipt\", \"payload\": {\"receipt\": {\"accountName\": \"xiaoyaoyin14\", \"betAsset\": \"0.1000 EOS\", \"now\": 1542357994, \"payoutAsset\": \"0.1036 EOS\", \"diceNumber\": 28, \"seed\": \"LoZSOLnKWhoPAOKRmC\", \"rollUnder\": 96}}}\n",
      "{\"type\": \"betReceipt\", \"payload\": {\"receipt\": {\"accountName\": \"gyytqojrhege\", \"betAsset\": \"50000.0000 KARMA\", \"now\": 1542357994, \"payoutAsset\": \"55337.0786 KARMA\", \"diceNumber\": 59, \"seed\": \"Q0kNqEEEYBm5p7rnky\", \"rollUnder\": 90}}}\n",
      "{\"type\": \"betReceipt\", \"payload\": {\"receipt\": {\"accountName\": \"purung212123\", \"betAsset\": \"1.0000 EOS\", \"now\": 1542357994, \"payoutAsset\": \"0.0000 EOS\", \"diceNumber\": 80, \"seed\": \"rilsg5iHdDtYtptjD8\", \"rollUnder\": 51}}}\n",
      "{\"type\": \"betReceipt\", \"payload\": {\"receipt\": {\"accountName\": \"zhanghangdev\", \"betAsset\": \"100.1000 MEETONE\", \"now\": 1542357995, \"payoutAsset\": \"201.2214 MEETONE\", \"diceNumber\": 11, \"seed\": \"pJNLujchXe6KmdfJuwL4\", \"rollUnder\": 50}}}\n",
      "{\"type\": \"betReceipt\", \"payload\": {\"receipt\": {\"accountName\": \"byunghyunbbh\", \"betAsset\": \"52.0000 EOS\", \"now\": 1542357995, \"payoutAsset\": \"62.4634 EOS\", \"diceNumber\": 53, \"seed\": \"qt3Ii3fdIZR0pVvVrr\", \"rollUnder\": 83}}}\n",
      "{\"type\": \"betReceipt\", \"payload\": {\"receipt\": {\"accountName\": \"platformcoin\", \"betAsset\": \"0.1000 EOS\", \"now\": 1542357996, \"payoutAsset\": \"0.1515 EOS\", \"diceNumber\": 56, \"seed\": \"qCifSCde6WKHGaVvD4\", \"rollUnder\": 66}}}\n",
      "{\"type\": \"betReceipt\", \"payload\": {\"receipt\": {\"accountName\": \"wanghongwei5\", \"betAsset\": \"0.3000 EOS\", \"now\": 1542357995, \"payoutAsset\": \"0.4410 EOS\", \"diceNumber\": 26, \"seed\": \"8nPVJXe3Ykm6jrWNoJ\", \"rollUnder\": 68}}}\n",
      "{\"type\": \"betReceipt\", \"payload\": {\"receipt\": {\"accountName\": \"eosrewardrop\", \"betAsset\": \"1.6000 EOS\", \"now\": 1542357996, \"payoutAsset\": \"2.4246 EOS\", \"diceNumber\": 5, \"seed\": \"qJSB7RqtU76GdeBD5E\", \"rollUnder\": 66}}}\n"
     ]
    },
    {
     "name": "stderr",
     "output_type": "stream",
     "text": [
      "error from callback <function on_message at 0x11dfa9bf8>: Expecting value: line 1 column 1 (char 0)\n"
     ]
    },
    {
     "name": "stdout",
     "output_type": "stream",
     "text": [
      "{\"type\": \"betReceipt\", \"payload\": {\"receipt\": {\"accountName\": \"eosxing1xing\", \"betAsset\": \"0.1000 EOS\", \"now\": 1542357996, \"payoutAsset\": \"0.0000 EOS\", \"diceNumber\": 100, \"seed\": \"5MA1Y243ou23ZxcLUm\", \"rollUnder\": 50}}}\n"
     ]
    },
    {
     "name": "stderr",
     "output_type": "stream",
     "text": [
      "  File \"/anaconda3/lib/python3.6/site-packages/websocket/_app.py\", line 345, in _callback\n",
      "    callback(self, *args)\n",
      "  File \"<ipython-input-12-7abfb35e4037>\", line 14, in on_message\n",
      "    iteration = json.loads(striped)\n",
      "  File \"/anaconda3/lib/python3.6/json/__init__.py\", line 354, in loads\n",
      "    return _default_decoder.decode(s)\n",
      "  File \"/anaconda3/lib/python3.6/json/decoder.py\", line 339, in decode\n",
      "    obj, end = self.raw_decode(s, idx=_w(s, 0).end())\n",
      "  File \"/anaconda3/lib/python3.6/json/decoder.py\", line 357, in raw_decode\n",
      "    raise JSONDecodeError(\"Expecting value\", s, err.value) from None\n"
     ]
    },
    {
     "name": "stdout",
     "output_type": "stream",
     "text": [
      "{\"type\": \"betReceipt\", \"payload\": {\"receipt\": {\"accountName\": \"sukinneos123\", \"betAsset\": \"0.2000 EOS\", \"now\": 1542357997, \"payoutAsset\": \"0.2073 EOS\", \"diceNumber\": 53, \"seed\": \"PqAxItS9FclCgrso95\", \"rollUnder\": 96}}}\n",
      "{\"type\": \"betReceipt\", \"payload\": {\"receipt\": {\"accountName\": \"eossss555555\", \"betAsset\": \"4.0000 TPT\", \"now\": 1542357996, \"payoutAsset\": \"8.0408 TPT\", \"diceNumber\": 49, \"seed\": \"AaMTPtAilWncMO59FO\", \"rollUnder\": 50}}}\n",
      "{\"type\": \"betReceipt\", \"payload\": {\"receipt\": {\"accountName\": \"eosupupgogog\", \"betAsset\": \"8.0000 EOS\", \"now\": 1542357996, \"payoutAsset\": \"10.7945 EOS\", \"diceNumber\": 24, \"seed\": \"ufQ5n5TsxaEI30vpSz\", \"rollUnder\": 74}}}\n",
      "{\"type\": \"betReceipt\", \"payload\": {\"receipt\": {\"accountName\": \"fuckeos2moon\", \"betAsset\": \"4.0000 EOS\", \"now\": 1542357997, \"payoutAsset\": \"8.0408 EOS\", \"diceNumber\": 39, \"seed\": \"M7Z5Y5sjGLURd0wZM8\", \"rollUnder\": 50}}}\n",
      "{\"type\": \"betReceipt\", \"payload\": {\"receipt\": {\"accountName\": \"bettobigmoon\", \"betAsset\": \"8390.9940 TPT\", \"now\": 1542357997, \"payoutAsset\": \"16867.6103 TPT\", \"diceNumber\": 21, \"seed\": \"COTZrMulVOI9xD4iV8\", \"rollUnder\": 50}}}\n",
      "{\"type\": \"betReceipt\", \"payload\": {\"receipt\": {\"accountName\": \"eosabllagooo\", \"betAsset\": \"0.1000 EOS\", \"now\": 1542357997, \"payoutAsset\": \"0.0000 EOS\", \"diceNumber\": 90, \"seed\": \"cLCH0Tg181GSxIegWO\", \"rollUnder\": 50}}}\n",
      "{\"type\": \"betReceipt\", \"payload\": {\"receipt\": {\"accountName\": \"gq4dqojzgege\", \"betAsset\": \"1.0000 MEETONE\", \"now\": 1542357998, \"payoutAsset\": \"1.2628 MEETONE\", \"diceNumber\": 21, \"seed\": \"myHjQGBaOSsj7S5bxg\", \"rollUnder\": 79}}}\n",
      "{\"type\": \"betReceipt\", \"payload\": {\"receipt\": {\"accountName\": \"heytsnzxhege\", \"betAsset\": \"0.1000 EOS\", \"now\": 1542357998, \"payoutAsset\": \"0.1515 EOS\", \"diceNumber\": 58, \"seed\": \"39NbXek9R0kmIm5Eqc\", \"rollUnder\": 66}}}\n"
     ]
    },
    {
     "name": "stderr",
     "output_type": "stream",
     "text": [
      "send: b'\\x88\\x82\\xb0\\x0b\\x92\\xd0\\xb3\\xe3'\n"
     ]
    },
    {
     "name": "stdout",
     "output_type": "stream",
     "text": [
      "### closed ###\n"
     ]
    }
   ],
   "source": [
    "import websocket\n",
    "import warnings; warnings.simplefilter('ignore')\n",
    "import time\n",
    "import json\n",
    "\n",
    "try:\n",
    "    import thread\n",
    "except ImportError:\n",
    "    import _thread as thread\n",
    "\n",
    "def on_message(ws, message):\n",
    "    # print(message)\n",
    "    striped = message.lstrip(\"42[\\\"betReceipt\\\",\").rstrip(\"]\")\n",
    "    iteration = json.loads(striped)\n",
    "    print(json.dumps(iteration))\n",
    "    # for key, value in dict.items(iteration[\"payload\"][\"receipt\"]):\n",
    "    #     print(key,\":\",value, end=' ')\n",
    "    # print(\"\\n\")\n",
    "\n",
    "def on_error(ws, error):\n",
    "    print(error)\n",
    "\n",
    "def on_close(ws):\n",
    "    print(\"### closed ###\")\n",
    "\n",
    "def on_open(ws):\n",
    "    def run(*args):\n",
    "        for i in range(10):\n",
    "            time.sleep()\n",
    "            ws.send(\"Hello %d\" % i)\n",
    "        time.sleep()\n",
    "        ws.close()\n",
    "        print(\"thread terminating...\")\n",
    "    thread.start_new_thread(run, ())\n",
    "\n",
    "\n",
    "if __name__ == \"__main__\":\n",
    "    websocket.enableTrace(True)\n",
    "    ws = websocket.WebSocketApp(\"wss://betdice.one/dice/prod/ws/?EIO=3&transport=websocket\",\n",
    "                              on_open = on_open,\n",
    "                              on_message = on_message,\n",
    "                              on_error = on_error,\n",
    "                              on_close = on_close)\n",
    "    # ws.on_open = on_open\n",
    "    ws.run_forever()\n"
   ]
  },
  {
   "cell_type": "code",
   "execution_count": null,
   "metadata": {},
   "outputs": [],
   "source": []
  },
  {
   "cell_type": "code",
   "execution_count": null,
   "metadata": {},
   "outputs": [],
   "source": []
  },
  {
   "cell_type": "code",
   "execution_count": null,
   "metadata": {},
   "outputs": [],
   "source": []
  }
 ],
 "metadata": {
  "kernelspec": {
   "display_name": "Python 3",
   "language": "python",
   "name": "python3"
  },
  "language_info": {
   "codemirror_mode": {
    "name": "ipython",
    "version": 3
   },
   "file_extension": ".py",
   "mimetype": "text/x-python",
   "name": "python",
   "nbconvert_exporter": "python",
   "pygments_lexer": "ipython3",
   "version": "3.6.6"
  },
  "varInspector": {
   "cols": {
    "lenName": 16,
    "lenType": 16,
    "lenVar": 40
   },
   "kernels_config": {
    "python": {
     "delete_cmd_postfix": "",
     "delete_cmd_prefix": "del ",
     "library": "var_list.py",
     "varRefreshCmd": "print(var_dic_list())"
    },
    "r": {
     "delete_cmd_postfix": ") ",
     "delete_cmd_prefix": "rm(",
     "library": "var_list.r",
     "varRefreshCmd": "cat(var_dic_list()) "
    }
   },
   "types_to_exclude": [
    "module",
    "function",
    "builtin_function_or_method",
    "instance",
    "_Feature"
   ],
   "window_display": false
  }
 },
 "nbformat": 4,
 "nbformat_minor": 2
}
